





# Import dependencies
from pymongo import MongoClient
import pandas as pd
from pprint import pprint


# Create an instance of MongoClient
mongo = MongoClient(port=27017)


# assign the uk_food database to a variable name
db = mongo['uk_food']


# review the collections in our database
print(db.list_collection_names())


# assign the collection to a variable
establishments = db['establishments']








# Find the establishments with a hygiene score of 20
query = {'scores.Hygiene':20}
restaurants_hygiene_20 = establishments.find(query)

# Use count_documents to display the number of documents in the result
print('Number of restaurants with a hygiene score of 20:', establishments.count_documents(query))

# Display the first document in the results using pprint
print(f'First document with a hygiene score of 20:')
pprint(restaurants_hygiene_20[0])


# Convert the result to a Pandas DataFrame
hygiene_df = pd.DataFrame(restaurants_hygiene_20)

# Display the number of rows in the DataFrame
print('Number of rows in DataFrame: ', len(hygiene_df))

# Display the first 10 rows of the DataFrame
hygiene_df.head(10)






# Find the establishments with London as the Local Authority and has a RatingValue greater than or equal to 4.
query = {"LocalAuthorityName":{'$regex': "London"}, "RatingValue" : {'$gte':4}}
london_restaurants_4plus = establishments.find(query)

# Use count_documents to display the number of documents in the result
print('Number of restaurants with a hygiene score of 20:', establishments.count_documents(query))

# Display the first document in the results using pprint
print(f'First document for a London restaurant with a RatingValue greater than or equal to 4:')
pprint(london_restaurants_4plus[0])


# Convert the result to a Pandas DataFrame
london_df = pd.DataFrame(london_restaurants_4plus)

# Display the number of rows in the DataFrame
print('Number of rows in DataFrame: ', len(london_df))

# Display the first 10 rows of the DataFrame
london_df.head(10)






# Search within 0.01 degree on either side of the latitude and longitude.
# Rating value must equal 5
# Sort by hygiene score

degree_search = 0.01
lat_long = establishments.find_one({"BusinessName":"Penang Flavours"},{"geocode":1})
latitude = lat_long['geocode']['latitude']
longitude = lat_long['geocode']['longitude']

# Calculate the lat/long search area by +/- the 'degree_search' from the lat/long variables
query = {"geocode.latitude":{'$gte': latitude-degree_search, '$lte': latitude+degree_search},
        "geocode.longitude":{'$gte': longitude-degree_search, '$lte': longitude+degree_search},
        "RatingValue":5}
sort = [("scores.Hygiene",1)]
limit = 5

# Print the results
restaurants_near_PenangFlavours = list(establishments.find(query).sort(sort).limit(limit))
for result in restaurants_near_PenangFlavours:
    pprint(result)


# Convert result to Pandas DataFrame
restaurants_near_PenangFlavours_df = pd.DataFrame(restaurants_near_PenangFlavours)
restaurants_near_PenangFlavours_df.head(10)






# Create a pipeline that:
# 1. Matches establishments with a hygiene score of 0
match_query = {'$match': {'scores.Hygiene' : 0}}

# 2. Groups the matches by Local Authority
group_query = {'$group': {'_id': '$LocalAuthorityName', 'count': {'$sum': 1}}}

# 3. Sorts the matches from highest to lowest
sort_values = {'$sort' : {'count': 1}}

pipeline = [match_query, group_query, sort_values]
results = list(establishments.aggregate(pipeline))

# Print the number of documents in the result
print('Number of documents in result:', len(results))

# Print the first 10 results
pprint(results[0:10])


# Convert the result to a Pandas DataFrame
result_df = pd.DataFrame(results)

# Display the number of rows in the DataFrame
print("Rows in DataFrame: ", len(results))

# Display the first 10 rows of the DataFrame
result_df.head(10)



